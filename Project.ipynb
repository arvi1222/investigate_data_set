{
 "cells": [
  {
   "cell_type": "markdown",
   "metadata": {},
   "source": [
    "Arvi Punzalan\n",
    "Investigate a Data Set Project\n"
   ]
  },
  {
   "cell_type": "markdown",
   "metadata": {},
   "source": [
    "The builders of the Titanic were confident in its indestructibility. So much so that they only included enough lifeboats to accomodate 1,178 of the 2,228 people on board. Unfortunately, the builders were wrong about the ship.\n",
    "\n",
    "Many people lost their lives when the ship went down. Let's investigate which factors led a passenger to a higher chance of survival.\n",
    "\n",
    "To begin with, let's see what data we have to work with."
   ]
  },
  {
   "cell_type": "code",
   "execution_count": 28,
   "metadata": {
    "collapsed": false
   },
   "outputs": [
    {
     "name": "stdout",
     "output_type": "stream",
     "text": [
      "   PassengerId  Survived  Pclass  \\\n",
      "0            1         0       3   \n",
      "1            2         1       1   \n",
      "2            3         1       3   \n",
      "3            4         1       1   \n",
      "4            5         0       3   \n",
      "\n",
      "                                                Name     Sex   Age  SibSp  \\\n",
      "0                            Braund, Mr. Owen Harris    male  22.0      1   \n",
      "1  Cumings, Mrs. John Bradley (Florence Briggs Th...  female  38.0      1   \n",
      "2                             Heikkinen, Miss. Laina  female  26.0      0   \n",
      "3       Futrelle, Mrs. Jacques Heath (Lily May Peel)  female  35.0      1   \n",
      "4                           Allen, Mr. William Henry    male  35.0      0   \n",
      "\n",
      "   Parch            Ticket     Fare Cabin Embarked  \n",
      "0      0         A/5 21171   7.2500   NaN        S  \n",
      "1      0          PC 17599  71.2833   C85        C  \n",
      "2      0  STON/O2. 3101282   7.9250   NaN        S  \n",
      "3      0            113803  53.1000  C123        S  \n",
      "4      0            373450   8.0500   NaN        S  \n",
      "       PassengerId    Survived      Pclass         Age       SibSp  \\\n",
      "count   891.000000  891.000000  891.000000  714.000000  891.000000   \n",
      "mean    446.000000    0.383838    2.308642   29.699118    0.523008   \n",
      "std     257.353842    0.486592    0.836071   14.526497    1.102743   \n",
      "min       1.000000    0.000000    1.000000    0.420000    0.000000   \n",
      "25%     223.500000    0.000000    2.000000   20.125000    0.000000   \n",
      "50%     446.000000    0.000000    3.000000   28.000000    0.000000   \n",
      "75%     668.500000    1.000000    3.000000   38.000000    1.000000   \n",
      "max     891.000000    1.000000    3.000000   80.000000    8.000000   \n",
      "\n",
      "            Parch        Fare  \n",
      "count  891.000000  891.000000  \n",
      "mean     0.381594   32.204208  \n",
      "std      0.806057   49.693429  \n",
      "min      0.000000    0.000000  \n",
      "25%      0.000000    7.910400  \n",
      "50%      0.000000   14.454200  \n",
      "75%      0.000000   31.000000  \n",
      "max      6.000000  512.329200  \n"
     ]
    }
   ],
   "source": [
    "#parse csv and investigate csv data\n",
    "\n",
    "import pandas as pd\n",
    "\n",
    "filename = '/Users/Arvi/Desktop/Data_Analyst/Investigate_A_Data_Set/Project/titanic-data.csv'\n",
    "\n",
    "titanic_df = pd.read_csv(filename)\n",
    "print(titanic_df.head())\n",
    "print(titanic_df.describe())"
   ]
  },
  {
   "cell_type": "markdown",
   "metadata": {},
   "source": [
    "While it is known that most people did not survive the tragedy, it is still shocking to see a survival rate of only 38% on a luxury liner. I was also surprised to see the max fare paid of 500 dollars which is almost 13,000 dollars in todays money according to http://www.in2013dollars.com/\n",
    "\n",
    "There is a lot of interesting data here, but it also has some shortcomings. The Passenger ID data is arbitrary, so I won't take it into account in my analysis. Sibling/spouse and parent/child don't specify which of the two options they refer to, so are limited in their usefulness as data. There were 1,317 passengers on the ship, but we have data for only 891 passengers. It is not specified how they were chosen from the total. Without knowing about the randomness passengers were selected for the data set, this analysis may not be unbiased.\n",
    "\n",
    "Within the first five passengers, three are missing cabin data. Let's check to see how many passengers have cabin information."
   ]
  },
  {
   "cell_type": "code",
   "execution_count": 29,
   "metadata": {
    "collapsed": false
   },
   "outputs": [
    {
     "name": "stdout",
     "output_type": "stream",
     "text": [
      "Number of passengers with cabin data:\n",
      "204\n"
     ]
    }
   ],
   "source": [
    "#Check number of passengers with cabin data\n",
    "\n",
    "cabin_noNaN = titanic_df['Cabin'].dropna()\n",
    "print('Number of passengers with cabin data:')\n",
    "print(len(cabin_noNaN))"
   ]
  },
  {
   "cell_type": "markdown",
   "metadata": {},
   "source": [
    "Out of 891 passengers, only 204 have cabin data. Because they are just a fraction of the total passengers, I won't use this data for my analysis."
   ]
  },
  {
   "cell_type": "code",
   "execution_count": 30,
   "metadata": {
    "collapsed": false,
    "scrolled": true
   },
   "outputs": [
    {
     "name": "stdout",
     "output_type": "stream",
     "text": [
      "Pclass\n",
      "1    84.154687\n",
      "2    20.662183\n",
      "3    13.675550\n",
      "Name: Fare, dtype: float64\n"
     ]
    }
   ],
   "source": [
    "#ticket class fares paid\n",
    "\n",
    "class_groups = titanic_df.groupby('Pclass')\n",
    "print(class_groups.mean())['Fare']"
   ]
  },
  {
   "cell_type": "markdown",
   "metadata": {},
   "source": [
    "Above I group the passengers by class then show the average price paid for a ticket to show the correlation between wealth and ticket class."
   ]
  },
  {
   "cell_type": "code",
   "execution_count": 31,
   "metadata": {
    "collapsed": false
   },
   "outputs": [
    {
     "name": "stdout",
     "output_type": "stream",
     "text": [
      "Number of survivors vs non-survivors.\n",
      "0    549\n",
      "1    342\n",
      "dtype: int64\n",
      "\n",
      "\n",
      "   Survived  PassengerId    Pclass        Age     SibSp     Parch       Fare\n",
      "0         0   447.016393  2.531876  30.626179  0.553734  0.329690  22.117887\n",
      "1         1   444.368421  1.950292  28.343690  0.473684  0.464912  48.395408\n"
     ]
    }
   ],
   "source": [
    "#averages for survivors vs. non-survivors\n",
    "\n",
    "survivor_groupings = titanic_df.groupby('Survived', as_index=False)\n",
    "\n",
    "#total number of survivors and non-survivors\n",
    "print('Number of survivors vs non-survivors.')\n",
    "print(survivor_groupings.apply(len))\n",
    "print('\\n')\n",
    "print(survivor_groupings.mean())"
   ]
  },
  {
   "cell_type": "markdown",
   "metadata": {},
   "source": [
    "Taking the means of the numerical data gave some interesting information. The data point that sticks out the most is discrepancy on fare paid between survivors and non-survivors. Survivors  on average paid more than double the fare of non-survivors. This leads me to believe that wealth was a good determiner of whether one survived or not."
   ]
  },
  {
   "cell_type": "code",
   "execution_count": 32,
   "metadata": {
    "collapsed": false
   },
   "outputs": [
    {
     "name": "stdout",
     "output_type": "stream",
     "text": [
      "Populating the interactive namespace from numpy and matplotlib\n",
      "\n",
      "By far the highest paying passengers!\n",
      "                                   Name   Age  Pclass      Fare\n",
      "258                    Ward, Miss. Anna  35.0       1  512.3292\n",
      "679  Cardeza, Mr. Thomas Drake Martinez  36.0       1  512.3292\n",
      "737              Lesurer, Mr. Gustave J  35.0       1  512.3292\n"
     ]
    },
    {
     "data": {
      "text/plain": [
       "<matplotlib.legend.Legend at 0x10d11eb50>"
      ]
     },
     "execution_count": 32,
     "metadata": {},
     "output_type": "execute_result"
    },
    {
     "data": {
      "image/png": "[encoded data removed]",
      "text/plain": [
       "<matplotlib.figure.Figure at 0x10af89110>"
      ]
     },
     "metadata": {},
     "output_type": "display_data"
    }
   ],
   "source": [
    "#plot histogram of ticket price paid for survivors vs non-survivors\n",
    "\n",
    "import seaborn as sns\n",
    "import matplotlib.pyplot as plt\n",
    "\n",
    "%pylab inline\n",
    "\n",
    "print(\"\\nBy far the highest paying passengers!\")\n",
    "print(titanic_df[titanic_df['Fare'] > 500][['Name', 'Age', 'Pclass', 'Fare']])\n",
    "\n",
    "survival_fare_list = titanic_df[titanic_df['Survived'] == 1]['Fare']\n",
    "non_survival_fare_list = titanic_df[titanic_df['Survived'] == 0]['Fare']\n",
    "plt.hist(survival_fare_list, bins=25, label='Survivor')\n",
    "plt.hist(non_survival_fare_list, bins=25, label='Non-Survivor', alpha=0.7)\n",
    "plt.title('Survivor vs. Non-survivor')\n",
    "plt.xlabel('Fare Paid')\n",
    "plt.ylabel('Frequency')\n",
    "plt.legend()"
   ]
  },
  {
   "cell_type": "markdown",
   "metadata": {},
   "source": [
    "Despite fewer people surviving the crash, the graph above shows that the more one paid, the more likely he or she was to survive. The graph also shows that the $500 tickets were outliers. It is not surprising that all three of these passengers survived."
   ]
  },
  {
   "cell_type": "markdown",
   "metadata": {},
   "source": [
    "Lets take a look at the other data and their effect on survival beginning with gender. This will also give some insight on whether the adage \"Women and children first!\" was followed at the time."
   ]
  },
  {
   "cell_type": "code",
   "execution_count": 33,
   "metadata": {
    "collapsed": false,
    "scrolled": true
   },
   "outputs": [
    {
     "name": "stdout",
     "output_type": "stream",
     "text": [
      "        PassengerId  Survived    Pclass        Age     SibSp     Parch  \\\n",
      "Sex                                                                      \n",
      "female   431.028662  0.742038  2.159236  27.915709  0.694268  0.649682   \n",
      "male     454.147314  0.188908  2.389948  30.726645  0.429809  0.235702   \n",
      "\n",
      "             Fare  \n",
      "Sex                \n",
      "female  44.479818  \n",
      "male    25.523893  \n"
     ]
    }
   ],
   "source": [
    "#Were men or women more likely to survive?\n",
    "\n",
    "gender_groups = titanic_df.groupby('Sex')\n",
    "print(gender_groups.mean())\n"
   ]
  },
  {
   "cell_type": "markdown",
   "metadata": {},
   "source": [
    "The survival rate for women was much higher than for men. Women also had on average more siblings/spouse, parent/children, and fares paid. The discrepancy for siblings/spouse is likely because women didn't travel alone often during that time and similarly, the difference in parents/children is likely because children would likely only travel with their mother. It was shown above that there was a correlation with fare paid and survival. Could this be the reason for the big difference in survival rates between genders?"
   ]
  },
  {
   "cell_type": "code",
   "execution_count": 34,
   "metadata": {
    "collapsed": false
   },
   "outputs": [
    {
     "name": "stdout",
     "output_type": "stream",
     "text": [
      "Sex     Survived\n",
      "female  0           23.024385\n",
      "        1           51.938573\n",
      "male    0           21.960993\n",
      "        1           40.821484\n",
      "Name: Fare, dtype: float64\n"
     ]
    }
   ],
   "source": [
    "gender_survived_groups = titanic_df.groupby(['Sex', 'Survived'])['Fare']\n",
    "\n",
    "print(gender_survived_groups.mean())"
   ]
  },
  {
   "cell_type": "markdown",
   "metadata": {},
   "source": [
    "We see that the ratio for the fares paid depending on whether one survived or not was similar for males and females. Could it be that women survived much more often than men because in general they paid more?"
   ]
  },
  {
   "cell_type": "code",
   "execution_count": 35,
   "metadata": {
    "collapsed": false
   },
   "outputs": [
    {
     "name": "stdout",
     "output_type": "stream",
     "text": [
      "Rate of survival by gender\n",
      "Sex\n",
      "female    0.742038\n",
      "male      0.188908\n",
      "Name: Survived, dtype: float64\n",
      "\n",
      "Number of passengers by gender and class.\n",
      "Sex     Pclass\n",
      "female  1          94\n",
      "        2          76\n",
      "        3         144\n",
      "male    1         122\n",
      "        2         108\n",
      "        3         347\n",
      "dtype: int64\n"
     ]
    }
   ],
   "source": [
    "gender_class_groups = titanic_df.groupby(['Sex', 'Pclass'])\n",
    "print(\"Rate of survival by gender\")\n",
    "print(gender_groups.mean()['Survived'])\n",
    "print('\\nNumber of passengers by gender and class.')\n",
    "\n",
    "print(gender_class_groups.apply(len))"
   ]
  },
  {
   "cell_type": "markdown",
   "metadata": {},
   "source": [
    "Comparing the raw numbers of survivors vs non-survivors to the class breakdown of the genders, we see that women were nearly four times more likely to survive than men. Women were broken into classes at the following ratios: 1st-30%, 2nd-24%, 3rd-46% and men: 1st-21%, 2nd-19%, 3rd-60%. While women were generally in higher ticket classes, it was not so much as to account for the huge difference in survival rates between genders. Showing that there is a correlation between being a woman and having a higher chance of survival.\n",
    "\n",
    "Let us now see if children were more likely to survive than adults by looking at the age data."
   ]
  },
  {
   "cell_type": "code",
   "execution_count": 48,
   "metadata": {
    "collapsed": false,
    "scrolled": true
   },
   "outputs": [
    {
     "name": "stdout",
     "output_type": "stream",
     "text": [
      "Number of passengers with age data.\n",
      "714\n",
      "\n",
      "Passengers are broken down by age into 10 year bins: 0-9, 10-19,..., 70-79, 80+\n",
      "[  0.  10.  20.  30.  40.  50.  60.  70.  80.]\n",
      "\n",
      "Number of passengers in each bin.\n",
      "1     62\n",
      "2    102\n",
      "3    220\n",
      "4    167\n",
      "5     89\n",
      "6     48\n",
      "7     19\n",
      "8      6\n",
      "9      1\n",
      "dtype: int64\n",
      "Above, we see a normal distribution of ages of the passengers.\n",
      "\n",
      "Survival rates by age and ticket class.\n",
      "   Pclass\n",
      "1  1         0.666667\n",
      "   2         1.000000\n",
      "   3         0.452381\n",
      "2  1         0.833333\n",
      "   2         0.500000\n",
      "   3         0.257576\n",
      "3  1         0.705882\n",
      "   2         0.415094\n",
      "   3         0.233083\n",
      "4  1         0.780000\n",
      "   2         0.395833\n",
      "   3         0.217391\n",
      "5  1         0.594595\n",
      "   2         0.555556\n",
      "   3         0.058824\n",
      "6  1         0.555556\n",
      "   2         0.333333\n",
      "   3         0.000000\n",
      "7  1         0.307692\n",
      "   2         0.333333\n",
      "   3         0.333333\n",
      "8  1         0.000000\n",
      "   2         0.000000\n",
      "   3         0.000000\n",
      "9  1         1.000000\n",
      "Name: Survived, dtype: float64\n"
     ]
    }
   ],
   "source": [
    "#group ages by bins\n",
    "#website help: http://stackoverflow.com/questions/16947336/binning-a-dataframe-in-pandas-in-python\n",
    "\n",
    "bins = np.linspace(0, 80, 9) \n",
    "#Returns num evenly spaced samples, calculated over the interval [start, stop].\n",
    "\n",
    "#Remove NaN age data\n",
    "titanic_noNan_ages = titanic_df[titanic_df['Age'].notnull()]\n",
    "print('Number of passengers with age data.')\n",
    "print(len(titanic_noNan_ages))\n",
    "age_groups_noNaN = titanic_noNan_ages.groupby(np.digitize(titanic_noNan_ages['Age'], bins))\n",
    "\n",
    "print(\"\\nPassengers are broken down by age into 10 year bins: 0-9, 10-19,..., 70-79, 80+\")\n",
    "print(bins)\n",
    "\n",
    "print(\"\\nNumber of passengers in each bin.\")\n",
    "print(age_groups_noNaN.apply(len))\n",
    "print(\"Above, we see a normal distribution of ages of the passengers.\")\n",
    "\n",
    "#graph of survival rates\n",
    "\n",
    "#breakdown age groups onto ticket classes\n",
    "age_class_groups_noNaN = titanic_noNan_ages.groupby([np.digitize(titanic_noNan_ages['Age'], bins), 'Pclass'])\n",
    "survival_rates_by_age_group = age_class_groups_noNaN.mean()['Survived']\n",
    "\n",
    "print('\\nSurvival rates by age and ticket class.')\n",
    "print(survival_rates_by_age_group)"
   ]
  },
  {
   "cell_type": "markdown",
   "metadata": {},
   "source": [
    "The data looks good except for there not being any data for second and third class passengers in the oldest age bin. We saw earlier that there was only one passenger in this age bin. Let's add NaN to this array to keep it the same size as the arrays of the other age bins. While the heat map used in the next cell would still produce the same graph without the fix, if I were to use the following arrays or dataframe in the future without adding the data, an error might occur.\n",
    "\n",
    "I will fill the values with NaN as filling them with zero would be misleading in the plot below. I wanted to make sure that there was no confusion for the reader about the lack of data for second and third class passengers in the oldest age bin and using NaN produced a neutral color in the heatmap better showing that no passengers fit these categories. A disadvantage of using NaN is that other third party tools may misinterpret the NaN data. Above, I had to remove NaN from the age data because passengers were mistakenly placed into the 80+ age bin when they had NaN as their age. This would have given us an incorrect plot since those passengers could have belonged to any age group."
   ]
  },
  {
   "cell_type": "code",
   "execution_count": 49,
   "metadata": {
    "collapsed": false
   },
   "outputs": [
    {
     "name": "stdout",
     "output_type": "stream",
     "text": [
      "\n",
      "By far the oldest survivor in our set!\n",
      "                                     Name   Age  Pclass  Fare\n",
      "630  Barkworth, Mr. Algernon Henry Wilson  80.0       1  30.0\n"
     ]
    },
    {
     "data": {
      "text/plain": [
       "<matplotlib.axes._subplots.AxesSubplot at 0x1127e7050>"
      ]
     },
     "execution_count": 49,
     "metadata": {},
     "output_type": "execute_result"
    },
    {
     "data": {
      "image/png": "[encoded data removed]",
      "text/plain": [
       "<matplotlib.figure.Figure at 0x112361850>"
      ]
     },
     "metadata": {},
     "output_type": "display_data"
    }
   ],
   "source": [
    "#put survival rate data into appropriate np arrays \n",
    "age0 = survival_rates_by_age_group.iloc[0:3].values\n",
    "age10 = survival_rates_by_age_group.iloc[3:6].values\n",
    "age20 = survival_rates_by_age_group.iloc[6:9].values\n",
    "age30 = survival_rates_by_age_group.iloc[9:12].values\n",
    "age40 = survival_rates_by_age_group.iloc[12:15].values\n",
    "age50 = survival_rates_by_age_group.iloc[15:18].values\n",
    "age60 = survival_rates_by_age_group.iloc[18:21].values\n",
    "age70 = survival_rates_by_age_group.iloc[21:24].values\n",
    "age80_value = survival_rates_by_age_group.iloc[24]\n",
    "\n",
    "#add NaN to missing values\n",
    "age80 = np.array([age80_value, NaN, NaN]) \n",
    "\n",
    "#combine np arrays into df\n",
    "test_df = pd.DataFrame([age0, age10, age20, age30, age40, age50, age60, age70, age80], \n",
    "                       index = ['0-9', '10-19', '20-29', '30-39', '40-49', '50-59', '60-69', '70-79', '80-89'], \n",
    "                       columns = ['1st Class', '2nd Class', '3rd Class'])\n",
    "\n",
    "print('\\nBy far the oldest survivor in our set!')\n",
    "print(titanic_df[(titanic_df['Age'] >= 80)][['Name', 'Age', 'Pclass', 'Fare']])\n",
    "\n",
    "sns.heatmap(test_df.T, linewidths=0.3)"
   ]
  },
  {
   "cell_type": "markdown",
   "metadata": {},
   "source": [
    "Out of the 891 passengers, we are supplied with 714 with age data. Unlike the cabin data, there is sufficient data to use.\n",
    "\n",
    "From the data, it appears that the rules of chivalry applied not only to women, but to children as well. The passengers have been seperated into age bins and ticket class. Following each class down the age bins, we see that the older a passenger was, the less likely he/or she had survived. The only exception to this being the lone passenger over 80 years old who survived. Being the only person in that age bin, the data point in itself isn't enough to contradict the trend. Also, at each age bin we see that the lower the class, the less likely a passenger was to survive. While historically the axiom \"Each man for himself\" was followed, the data shows that on the Titanic, women and children were given priority on lifeboats.\n",
    "\n",
    "Since there is a correlation with fare paid and survival, let's see if that could be a factor in the age survival correlation."
   ]
  },
  {
   "cell_type": "code",
   "execution_count": 37,
   "metadata": {
    "collapsed": false
   },
   "outputs": [
    {
     "name": "stdout",
     "output_type": "stream",
     "text": [
      "1    30.576679\n",
      "2    32.535132\n",
      "3    27.278937\n",
      "4    40.377294\n",
      "5    38.002297\n",
      "6    47.933333\n",
      "7    48.367542\n",
      "8    30.197233\n",
      "9    30.000000\n",
      "Name: Fare, dtype: float64\n"
     ]
    }
   ],
   "source": [
    "#Average ticket fare for each age bin\n",
    "print(age_groups_noNaN.mean())['Fare']"
   ]
  },
  {
   "cell_type": "markdown",
   "metadata": {},
   "source": [
    "Looking at the average fare paid in each bin, it doesn't decrease in relationship to survival rate decreasing with the increase in age. This shows that there is a correlation between younger age and higher survival.\n",
    "\n",
    "The final variable to check is embarked port."
   ]
  },
  {
   "cell_type": "code",
   "execution_count": 38,
   "metadata": {
    "collapsed": false,
    "scrolled": true
   },
   "outputs": [
    {
     "name": "stdout",
     "output_type": "stream",
     "text": [
      "Embarked\n",
      "C    0.553571\n",
      "Q    0.389610\n",
      "S    0.336957\n",
      "Name: Survived, dtype: float64\n"
     ]
    }
   ],
   "source": [
    "#Which port was more likely to survive?\n",
    "\n",
    "port_groups = titanic_df.groupby('Embarked')\n",
    "\n",
    "print(port_groups['Survived'].mean())"
   ]
  },
  {
   "cell_type": "markdown",
   "metadata": {},
   "source": [
    "Cherbourgian's survived at a significantly higher rate than average, while Queenstown and Southampton passengers were similar to the total average."
   ]
  },
  {
   "cell_type": "code",
   "execution_count": 39,
   "metadata": {
    "collapsed": false
   },
   "outputs": [
    {
     "name": "stdout",
     "output_type": "stream",
     "text": [
      "Embarked\n",
      "C    59.954144\n",
      "Q    13.276030\n",
      "S    27.079812\n",
      "Name: Fare, dtype: float64\n"
     ]
    }
   ],
   "source": [
    "#Fare average by port\n",
    "\n",
    "print(port_groups.mean()['Fare'])"
   ]
  },
  {
   "cell_type": "markdown",
   "metadata": {},
   "source": [
    "Cherbourgian passengers paid much more than passengers from the other ports. This explains the discrepancy in survival rates between the port of embarkment.\n",
    "\n",
    "Our analysis of the data shows that the factors that influence survival are gender, age, and wealth. Let's finish by summarizing this with a graph of survival rates for passengers broken down into three groups: children, men, and women as well as seperating them by wealth. We will show wealth breakdown by seperating them by ticket class."
   ]
  },
  {
   "cell_type": "code",
   "execution_count": 40,
   "metadata": {
    "collapsed": false
   },
   "outputs": [
    {
     "name": "stdout",
     "output_type": "stream",
     "text": [
      "Female survival rates\n",
      "Pclass\n",
      "1    0.974026\n",
      "2    0.903226\n",
      "3    0.417910\n",
      "Name: Survived, dtype: float64\n",
      "\n",
      "Male survival rates\n",
      "Pclass\n",
      "1    0.371134\n",
      "2    0.068182\n",
      "3    0.133333\n",
      "Name: Survived, dtype: float64\n",
      "\n",
      "Child survival rates\n",
      "Pclass\n",
      "1    0.916667\n",
      "2    0.913043\n",
      "3    0.371795\n",
      "Name: Survived, dtype: float64\n"
     ]
    }
   ],
   "source": [
    "#seperate into 3 groups, less than 18, men over 18, women over 18\n",
    "#find survival rates for each class based on those groups\n",
    "children_titanic = titanic_df[titanic_df['Age'] < 18].groupby('Pclass')\n",
    "adult_titanic = titanic_df[titanic_df['Age'] >= 18]\n",
    "male_titanic = adult_titanic[adult_titanic['Sex'] == 'male'].groupby('Pclass')\n",
    "female_titanic = adult_titanic[adult_titanic['Sex'] != 'male'].groupby('Pclass')\n",
    "print(\"Female survival rates\")\n",
    "print(female_titanic.mean()['Survived'])\n",
    "print(\"\\nMale survival rates\")\n",
    "print(male_titanic.mean()['Survived'])\n",
    "print(\"\\nChild survival rates\")\n",
    "print(children_titanic.mean()['Survived'])"
   ]
  },
  {
   "cell_type": "code",
   "execution_count": 41,
   "metadata": {
    "collapsed": false
   },
   "outputs": [
    {
     "data": {
      "text/plain": [
       "<matplotlib.text.Text at 0x11132b150>"
      ]
     },
     "execution_count": 41,
     "metadata": {},
     "output_type": "execute_result"
    },
    {
     "data": {
      "image/png": "[encoded data removed]",
      "text/plain": [
       "<matplotlib.figure.Figure at 0x110546090>"
      ]
     },
     "metadata": {},
     "output_type": "display_data"
    }
   ],
   "source": [
    "plt.bar([1,2,3],female_titanic.mean()['Survived'], label='Women')\n",
    "plt.bar([1,2,3],children_titanic.mean()['Survived'], color = 'y', label='Children', alpha=0.8)\n",
    "plt.bar([1,2,3],male_titanic.mean()['Survived'], color = 'g', label='Men')\n",
    "plt.legend()\n",
    "plt.title('Survival Rates by Class')\n",
    "plt.xlabel('Ticket Class')\n",
    "plt.ylabel('Survival Rate')"
   ]
  },
  {
   "cell_type": "markdown",
   "metadata": {},
   "source": [
    "Female second class ticket holders survived at a slightly lower level than Children so you can't quite see it.\n",
    "\n",
    "The graph and survival rate numbers confirm our findings showing that women and children survived much more than men and that the more money you paid, the more likely you lived through the tragedy.\n",
    "\n",
    "\n",
    "The data set had some limitations. Data was not given for all passengers and it was not specified if these passengers were chosen randomly. Missing cabin data from most passengers decreased the reliability of that information and there were many underlying factors not given in the data set which could have caused the results we see. Because of this, we are only able to note correlations and not show causation.\n",
    "\n",
    "Despite these limitations, I was able to come to some interesting conclusions. Out of the 891 passengers from our dataset, a mere 342 or 38% survived. Not all passengers had the same chances of making through the disaster alive however. Sadly, those who survived paid on average more than twice what those who parished paid. On the bright side, chilvalry was alive that day as children and women had a very good chance to survive. Women and children in first or second class had an over 90% survival rate! Fewer than one in five men survived and this terrible rate got even worse the older a man was. Despite this, one lucky (or resourceful) man, Mr. Algernon Henry Wilson Barkworth, survived.\n",
    "\n",
    "Some people like Mr. Barkworth bucked the trends, however if you were on the titanic on the day it sank you would have liked to have been a woman or young child with a lot of money."
   ]
  },
  {
   "cell_type": "markdown",
   "metadata": {},
   "source": [
    "Extra Credit: I haven't seen the Titanic movie nor did I have much knowledge about the people who survived the disaster. I was expecting the survival rates for different ticket classes, but was pleasantly surprised about the children and women rates. I would be interested in looking into recent disasters to see if that is still common. \n",
    "\n",
    "For fun, I would like to analyze data on a game I play called Hearthstone. More seriously, I would like to analyze data on how people are changing their home choice habits such as van living, co-op homes, sustainable living, etc. After doing a lot of traveling, I believe that much of the US population and that of other developed countries spend more money on and have much bigger living spaces than is necessary. I would like to find trends on how this is can be improved."
   ]
  }
 ],
 "metadata": {
  "anaconda-cloud": {},
  "kernelspec": {
   "display_name": "Python [conda env:DAND]",
   "language": "python",
   "name": "conda-env-DAND-py"
  },
  "language_info": {
   "codemirror_mode": {
    "name": "ipython",
    "version": 2
   },
   "file_extension": ".py",
   "mimetype": "text/x-python",
   "name": "python",
   "nbconvert_exporter": "python",
   "pygments_lexer": "ipython2",
   "version": "2.7.12"
  }
 },
 "nbformat": 4,
 "nbformat_minor": 2
}
